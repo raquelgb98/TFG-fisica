{
 "cells": [
  {
   "cell_type": "markdown",
   "metadata": {},
   "source": [
    "# Binary Clustering example\n",
    "We try to separate two sets of clustered data by maping the optimization problem to an Ising hamiltonian, the ground state of which can be found using Quantum Annealing Techniques.\n",
    "Based on the paper: https://arxiv.org/pdf/1706.05528.pdf\n",
    "\n",
    "Let $\\displaystyle x_1,...,x_n$ be the data points that we want to separate. Then $\\displaystyle X=[x_1,...,x_n]$ is an $\\displaystyle m\\times n$ matrix and the optimization problem that we have to solve to separate the data points in two clusters is:\n",
    "$\\displaystyle \\text{argmin}_{s\\in\\{-1,1\\}^n}-\\sum_{i,j=1}^nQ_{ij}s_is_j$ \n",
    "\n",
    "where $\\displaystyle Q_{ij}=x_i^Tx_j$. We can simply consider this problem as finding the ground state of the Hamiltonian:\n",
    "\n",
    "$\\displaystyle H_P=-\\sum_{i,j=1}^nQ_{ij}\\sigma^i_z\\sigma_z^j$\n",
    "\n",
    "This can be done using Quantum Annealing. We consider the hamiltonian\n",
    "\n",
    "$\\displaystyle H_B=-\\sum_{i=1}^n\\sigma_x^i$\n",
    "\n",
    "whose ground state $|\\psi(0)\\rangle$ is easier to calculate. Then we construct the Hamiltonian:\n",
    "\n",
    "$H(t)=(1-\\frac{t}{\\tau})H_B+\\frac{t}{\\tau}H_P$\n",
    "\n",
    "and consider the evolution for a time $t\\in[0,\\tau]$ of the state $|\\psi(0)\\rangle$ under this hamiltonian.\n",
    "\n",
    "According to the adiabatic theorem, the state:\n",
    "\n",
    "$|\\psi(t)\\rangle=\\sum_{i=0}^{2^n-1}a_i(t)|\\psi_i\\rangle$\n",
    "\n",
    "will tend to evolve towards the ground state of $H_P$ if the evolution is done sufficiently slow. Then, in principle the maximum of the $|a_i(\\tau)|^2$ will indicate which is the basis vector $|\\psi_i\\rangle$ which is the solution to the optimization problem."
   ]
  },
  {
   "cell_type": "markdown",
   "metadata": {},
   "source": [
    "### Generating the Ising Hamiltonian"
   ]
  },
  {
   "cell_type": "code",
   "execution_count": 53,
   "metadata": {},
   "outputs": [],
   "source": [
    "%matplotlib inline\n",
    "import matplotlib.pyplot as plt\n",
    "import numpy as np\n",
    "from qutip import *\n",
    "\n",
    "def generate_Hp(N, X):\n",
    "    # N is the length of the chain\n",
    "    # X is the array of data points\n",
    "    Q = np.transpose(X)@X\n",
    "    \n",
    "    si = qeye(2)\n",
    "    sz = sigmaz()\n",
    "\n",
    "    sz_list = []\n",
    "\n",
    "    for n in range(N):\n",
    "        op_list = []\n",
    "        for m in range(N):\n",
    "            op_list.append(si)\n",
    "\n",
    "        op_list[n] = sz\n",
    "        sz_list.append(tensor(op_list))\n",
    "\n",
    "    # construct the hamiltonian\n",
    "    Hp = 0\n",
    "\n",
    "    for n in range(N):\n",
    "        for m in range(N):\n",
    "            Hp += - Q[n,m] * sz_list[n] * sz_list[m]\n",
    "        \n",
    "    return Hp, Q\n",
    "\n",
    "def generate_Hb(N):\n",
    "    # N is the length of the chain\n",
    "    \n",
    "    si = qeye(2)\n",
    "    sx = sigmax()\n",
    "\n",
    "    sx_list = []\n",
    "\n",
    "    for n in range(N):\n",
    "        op_list = []\n",
    "        for m in range(N):\n",
    "            op_list.append(si)\n",
    "\n",
    "        op_list[n] = sx\n",
    "        sx_list.append(tensor(op_list))\n",
    "\n",
    "    # construct the hamiltonian\n",
    "    Hb = 0\n",
    "\n",
    "    for n in range(N):\n",
    "        Hb += - sx_list[n]\n",
    "        \n",
    "    return Hb"
   ]
  },
  {
   "cell_type": "code",
   "execution_count": 6,
   "metadata": {},
   "outputs": [],
   "source": [
    "H = generate_Hb(8)\n",
    "psi0 = H.groundstate(sparse=False, tol=0, maxiter=100000)"
   ]
  },
  {
   "cell_type": "code",
   "execution_count": 79,
   "metadata": {},
   "outputs": [],
   "source": [
    "X = [[-1,1], [6,5]]\n",
    "X = np.transpose(X)"
   ]
  },
  {
   "cell_type": "code",
   "execution_count": 80,
   "metadata": {},
   "outputs": [
    {
     "data": {
      "text/latex": [
       "Quantum object: dims = [[2, 2], [2, 2]], shape = (4, 4), type = oper, isherm = True\\begin{equation*}\\left(\\begin{array}{*{11}c}-61.0 & 0.0 & 0.0 & 0.0\\\\0.0 & -65.0 & 0.0 & 0.0\\\\0.0 & 0.0 & -65.0 & 0.0\\\\0.0 & 0.0 & 0.0 & -61.0\\\\\\end{array}\\right)\\end{equation*}"
      ],
      "text/plain": [
       "Quantum object: dims = [[2, 2], [2, 2]], shape = (4, 4), type = oper, isherm = True\n",
       "Qobj data =\n",
       "[[-61.   0.   0.   0.]\n",
       " [  0. -65.   0.   0.]\n",
       " [  0.   0. -65.   0.]\n",
       " [  0.   0.   0. -61.]]"
      ]
     },
     "execution_count": 80,
     "metadata": {},
     "output_type": "execute_result"
    }
   ],
   "source": [
    "Hp, Q = generate_Hp(2, X)\n",
    "Hp"
   ]
  },
  {
   "cell_type": "code",
   "execution_count": 78,
   "metadata": {},
   "outputs": [
    {
     "name": "stdout",
     "output_type": "stream",
     "text": [
      "WARNING: Ground state may be degenerate. Use Q.eigenstates()\n"
     ]
    },
    {
     "data": {
      "text/plain": [
       "(-52.0,\n",
       " Quantum object: dims = [[2, 2], [1, 1]], shape = (4, 1), type = ket\n",
       " Qobj data =\n",
       " [[0.]\n",
       "  [0.]\n",
       "  [1.]\n",
       "  [0.]])"
      ]
     },
     "execution_count": 78,
     "metadata": {},
     "output_type": "execute_result"
    }
   ],
   "source": [
    "Hp.groundstate(sparse=False, tol=0, maxiter=100000)"
   ]
  },
  {
   "cell_type": "code",
   "execution_count": 30,
   "metadata": {},
   "outputs": [
    {
     "data": {
      "text/latex": [
       "Quantum object: dims = [[2, 2], [1, 1]], shape = (4, 1), type = ket\\begin{equation*}\\left(\\begin{array}{*{11}c}0.0\\\\0.0\\\\1.0\\\\0.0\\\\\\end{array}\\right)\\end{equation*}"
      ],
      "text/plain": [
       "Quantum object: dims = [[2, 2], [1, 1]], shape = (4, 1), type = ket\n",
       "Qobj data =\n",
       "[[0.]\n",
       " [0.]\n",
       " [1.]\n",
       " [0.]]"
      ]
     },
     "execution_count": 30,
     "metadata": {},
     "output_type": "execute_result"
    }
   ],
   "source": [
    "tensor(basis(2,1), basis(2,0))"
   ]
  },
  {
   "cell_type": "code",
   "execution_count": 64,
   "metadata": {},
   "outputs": [
    {
     "ename": "TypeError",
     "evalue": "_transpose_dispatcher() takes from 1 to 2 positional arguments but 3 were given",
     "output_type": "error",
     "traceback": [
      "\u001b[0;31m---------------------------------------------------------------------------\u001b[0m",
      "\u001b[0;31mTypeError\u001b[0m                                 Traceback (most recent call last)",
      "\u001b[0;32m<ipython-input-64-533b82972448>\u001b[0m in \u001b[0;36m<module>\u001b[0;34m\u001b[0m\n\u001b[0;32m----> 1\u001b[0;31m \u001b[0mQ\u001b[0m \u001b[0;34m=\u001b[0m \u001b[0mnp\u001b[0m\u001b[0;34m.\u001b[0m\u001b[0mmatmul\u001b[0m\u001b[0;34m(\u001b[0m\u001b[0mnp\u001b[0m\u001b[0;34m.\u001b[0m\u001b[0mtranspose\u001b[0m\u001b[0;34m(\u001b[0m\u001b[0mX\u001b[0m\u001b[0;34m,\u001b[0m\u001b[0;36m0\u001b[0m\u001b[0;34m,\u001b[0m\u001b[0;36m1\u001b[0m\u001b[0;34m)\u001b[0m\u001b[0;34m,\u001b[0m\u001b[0mX\u001b[0m\u001b[0;34m)\u001b[0m\u001b[0;34m\u001b[0m\u001b[0;34m\u001b[0m\u001b[0m\n\u001b[0m",
      "\u001b[0;32m<__array_function__ internals>\u001b[0m in \u001b[0;36mtranspose\u001b[0;34m(*args, **kwargs)\u001b[0m\n",
      "\u001b[0;31mTypeError\u001b[0m: _transpose_dispatcher() takes from 1 to 2 positional arguments but 3 were given"
     ]
    }
   ],
   "source": [
    "Q = np.matmul(np.transpose(X),X)"
   ]
  },
  {
   "cell_type": "code",
   "execution_count": 66,
   "metadata": {},
   "outputs": [
    {
     "data": {
      "text/plain": [
       "array([[ 2,  0],\n",
       "       [ 0, 50]])"
      ]
     },
     "execution_count": 66,
     "metadata": {},
     "output_type": "execute_result"
    }
   ],
   "source": [
    "np.transpose(X)"
   ]
  },
  {
   "cell_type": "code",
   "execution_count": 67,
   "metadata": {},
   "outputs": [
    {
     "data": {
      "text/plain": [
       "array([[-1,  5],\n",
       "       [ 1,  5]])"
      ]
     },
     "execution_count": 67,
     "metadata": {},
     "output_type": "execute_result"
    }
   ],
   "source": [
    "X"
   ]
  },
  {
   "cell_type": "code",
   "execution_count": null,
   "metadata": {},
   "outputs": [],
   "source": []
  }
 ],
 "metadata": {
  "kernelspec": {
   "display_name": "Python 3",
   "language": "python",
   "name": "python3"
  },
  "language_info": {
   "codemirror_mode": {
    "name": "ipython",
    "version": 3
   },
   "file_extension": ".py",
   "mimetype": "text/x-python",
   "name": "python",
   "nbconvert_exporter": "python",
   "pygments_lexer": "ipython3",
   "version": "3.8.5"
  }
 },
 "nbformat": 4,
 "nbformat_minor": 4
}
